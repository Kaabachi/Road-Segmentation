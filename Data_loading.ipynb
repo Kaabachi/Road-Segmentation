{
 "cells": [
  {
   "cell_type": "markdown",
   "metadata": {},
   "source": [
    "# Pytorch Fully convolutional"
   ]
  },
  {
   "cell_type": "code",
   "execution_count": 60,
   "metadata": {},
   "outputs": [],
   "source": [
    "import torch\n",
    "import numpy as np\n",
    "from torch.utils.data import Dataset, DataLoader\n",
    "from torchvision import transforms, utils\n",
    "from pathlib import Path\n",
    "from PIL import Image\n",
    "from transformations import *\n",
    "import torch\n",
    "import torch.nn as nn\n",
    "import torch.utils.data as data\n",
    "import torch.optim as optim\n",
    "from torchvision import models\n",
    "from datasets import RoadsDatasetTrain\n",
    "from datasets import RoadsDatasetTest\n",
    "import numpy as np"
   ]
  },
  {
   "cell_type": "markdown",
   "metadata": {},
   "source": [
    "# Helper functions"
   ]
  },
  {
   "cell_type": "code",
   "execution_count": 8,
   "metadata": {},
   "outputs": [],
   "source": [
    "def pad(image, paddingh, paddingw, mirror=True):\n",
    "    ''' Padd an image and fill the padded space with mirroring effect if `mirror` is set to True '''\n",
    "    shape_image = list(image.shape)\n",
    "    h, w = shape_image[:2]\n",
    "    shape_image[0], shape_image[1] = h+paddingh*2, w+paddingw*2\n",
    "    new_image = np.zeros(shape_image, np.uint8)\n",
    "    new_image[paddingh:paddingh+h,paddingw:paddingw+w] = image\n",
    "\n",
    "    # Fill in the padded regions with mirroring effect\n",
    "    if mirror:\n",
    "        new_image[0:paddingh] = cv2.flip(new_image[paddingh:2*paddingh],0)\n",
    "        new_image[paddingh+h:] = cv2.flip(new_image[h:h+paddingh],0)\n",
    "        new_image[:,0:paddingw] = cv2.flip(new_image[:,paddingw:2*paddingw],1)\n",
    "        new_image[:,paddingw+w:] = cv2.flip(new_image[:,w:w+paddingw],1)\n",
    "    return new_image"
   ]
  },
  {
   "cell_type": "code",
   "execution_count": 115,
   "metadata": {},
   "outputs": [],
   "source": [
    "#get training set from directory, groundtruth and images\n",
    "def get_train_set(root_dir):\n",
    "    \n",
    "    root_dir = Path(root_dir)\n",
    "    gt_dir = root_dir / \"groundtruth\"\n",
    "    img_dir = root_dir / \"images\"\n",
    "    \n",
    "    df = pd.DataFrame(columns=[\"idx\", \"image\", \"groundtruth\",\"image_name\"])\n",
    "    \n",
    "    \n",
    "    #save the id of each img\n",
    "    idx = 0    \n",
    "    img_name = [x.name for x in img_dir.glob(\"**/*.png\") if x.is_file()]\n",
    "    #traverse all images and save them in a dictionary with their name, id and groundtruth\n",
    "    for name in img_name:\n",
    "        image = numpy.array(Image.open(img_dir / name))\n",
    "        groundtruth = numpy.array(Image.open(gt_dir / name))\n",
    "        sample = pd.Series({\"idx\":idx,\"image\": image, \"groundtruth\": groundtruth,\"image_name\":name})\n",
    "        df = df.append(sample, ignore_index=True)\n",
    "        idx = idx+1\n",
    "\n",
    "    return df\n"
   ]
  },
  {
   "cell_type": "code",
   "execution_count": 140,
   "metadata": {},
   "outputs": [],
   "source": [
    "# get padding adequate to the size wanted\n",
    "def pad_image(image,x_dim,y_dim):\n",
    "    padded_image = pad(image,x_dim//2, y_dim//2)\n",
    "    return padded_image\n",
    "    "
   ]
  },
  {
   "cell_type": "code",
   "execution_count": 149,
   "metadata": {},
   "outputs": [],
   "source": [
    "# get patch_size x patch_size patches\n",
    "def get_patches(image,padded_image,patch_size,x_dim,y_dim):\n",
    "    patches=[]\n",
    "\n",
    "    if len(image.shape)>2:\n",
    "        sh,sw,sc = image.shape \n",
    "    else:\n",
    "        sh,sw = image.shape\n",
    "        sc = 1\n",
    "        \n",
    "    for j in range(patch_size//2,sw,patch_size):\n",
    "        for i in range(patch_size//2, sh, patch_size):\n",
    "            patches.append(padded_image[i:i+patch_size, j:j+patch_size])\n",
    "    return patches"
   ]
  },
  {
   "cell_type": "code",
   "execution_count": 150,
   "metadata": {},
   "outputs": [],
   "source": [
    "#get x_dim x y_dim patches centered in patch_size x patch_size\n",
    "def get_large_patches(image,padded_image,patch_size,x_dim,y_dim):\n",
    "    patches=[]\n",
    "    \n",
    "    if len(image.shape)>2:\n",
    "        sh,sw,sc = image.shape \n",
    "    else:\n",
    "        sh,sw = image.shape\n",
    "        sc = 1    \n",
    "\n",
    "\n",
    "    for j in range(patch_size//2,sw,patch_size):\n",
    "        for i in range(patch_size//2, sh, patch_size):\n",
    "            patches.append(padded_image[i:i+y_dim, j:j+x_dim])\n",
    "    return patches"
   ]
  },
  {
   "cell_type": "code",
   "execution_count": 151,
   "metadata": {},
   "outputs": [],
   "source": [
    "def reconstruct_patches(image,padded_image,enlarged_patches,patch_size,x_dim,y_dim):\n",
    "    patches=[]\n",
    "    \n",
    "    if len(image.shape)>2:\n",
    "        sh,sw,sc = image.shape \n",
    "    else:\n",
    "        sh,sw = image.shape\n",
    "        sc = 1 \n",
    "        \n",
    "    for j in range(patch_size//2,sw,patch_size):\n",
    "        for i in range(patch_size//2, sh, patch_size):\n",
    "            patches.append(padded_image[i-patch_size//2:i+patch_size//2, j-patch_size//2:j+patch_size//2])\n",
    "    "
   ]
  },
  {
   "cell_type": "markdown",
   "metadata": {},
   "source": [
    "# Importing data "
   ]
  },
  {
   "cell_type": "code",
   "execution_count": 141,
   "metadata": {},
   "outputs": [],
   "source": [
    "import pandas as pd \n",
    "x_dim;y_dim = 96\n",
    "patch_size = 16\n",
    "\n",
    "# load data\n",
    "data = get_train_set(\"./Datasets/training\")\n",
    "\n",
    "# pad images\n",
    "data[\"padded_img\"] = data.apply(lambda row : pad_image(row[\"image\"],x_dim,y_dim),axis = 1)\n",
    "data[\"padded_groundtruth\"] = data.apply(lambda row : pad_image(row[\"groundtruth\"],x_dim,y_dim),axis = 1)\n"
   ]
  },
  {
   "cell_type": "code",
   "execution_count": 169,
   "metadata": {},
   "outputs": [
    {
     "data": {
      "text/html": [
       "<div>\n",
       "<style scoped>\n",
       "    .dataframe tbody tr th:only-of-type {\n",
       "        vertical-align: middle;\n",
       "    }\n",
       "\n",
       "    .dataframe tbody tr th {\n",
       "        vertical-align: top;\n",
       "    }\n",
       "\n",
       "    .dataframe thead th {\n",
       "        text-align: right;\n",
       "    }\n",
       "</style>\n",
       "<table border=\"1\" class=\"dataframe\">\n",
       "  <thead>\n",
       "    <tr style=\"text-align: right;\">\n",
       "      <th></th>\n",
       "      <th>idx</th>\n",
       "      <th>image</th>\n",
       "      <th>groundtruth</th>\n",
       "      <th>image_name</th>\n",
       "      <th>padded_img</th>\n",
       "      <th>padded_groundtruth</th>\n",
       "    </tr>\n",
       "  </thead>\n",
       "  <tbody>\n",
       "    <tr>\n",
       "      <td>0</td>\n",
       "      <td>0</td>\n",
       "      <td>[[[85, 77, 69], [81, 75, 67], [78, 72, 64], [8...</td>\n",
       "      <td>[[0, 0, 0, 0, 0, 0, 0, 0, 0, 0, 0, 0, 0, 0, 0,...</td>\n",
       "      <td>satImage_001.png</td>\n",
       "      <td>[[[22, 21, 19], [16, 18, 15], [14, 16, 14], [1...</td>\n",
       "      <td>[[0, 0, 0, 0, 0, 0, 0, 0, 0, 0, 0, 0, 0, 0, 0,...</td>\n",
       "    </tr>\n",
       "    <tr>\n",
       "      <td>1</td>\n",
       "      <td>1</td>\n",
       "      <td>[[[48, 64, 38], [46, 63, 38], [47, 66, 39], [4...</td>\n",
       "      <td>[[0, 0, 0, 0, 0, 0, 0, 0, 0, 0, 0, 0, 0, 0, 0,...</td>\n",
       "      <td>satImage_002.png</td>\n",
       "      <td>[[[89, 71, 64], [89, 70, 63], [88, 69, 62], [9...</td>\n",
       "      <td>[[0, 0, 0, 0, 0, 0, 0, 0, 0, 0, 0, 0, 0, 0, 0,...</td>\n",
       "    </tr>\n",
       "    <tr>\n",
       "      <td>2</td>\n",
       "      <td>2</td>\n",
       "      <td>[[[117, 110, 102], [113, 106, 98], [116, 109, ...</td>\n",
       "      <td>[[237, 237, 237, 237, 237, 237, 237, 237, 237,...</td>\n",
       "      <td>satImage_003.png</td>\n",
       "      <td>[[[162, 157, 143], [160, 154, 142], [160, 155,...</td>\n",
       "      <td>[[0, 0, 0, 0, 0, 0, 0, 0, 0, 0, 0, 0, 0, 0, 0,...</td>\n",
       "    </tr>\n",
       "    <tr>\n",
       "      <td>3</td>\n",
       "      <td>3</td>\n",
       "      <td>[[[54, 53, 47], [27, 27, 22], [54, 51, 46], [5...</td>\n",
       "      <td>[[0, 0, 0, 0, 0, 0, 0, 0, 0, 0, 0, 0, 0, 0, 0,...</td>\n",
       "      <td>satImage_004.png</td>\n",
       "      <td>[[[78, 75, 70], [76, 73, 69], [76, 73, 69], [7...</td>\n",
       "      <td>[[0, 0, 0, 0, 0, 0, 0, 0, 0, 0, 0, 0, 0, 0, 0,...</td>\n",
       "    </tr>\n",
       "    <tr>\n",
       "      <td>4</td>\n",
       "      <td>4</td>\n",
       "      <td>[[[143, 144, 144], [144, 145, 145], [146, 146,...</td>\n",
       "      <td>[[0, 0, 0, 0, 0, 0, 0, 0, 0, 0, 0, 0, 0, 0, 0,...</td>\n",
       "      <td>satImage_005.png</td>\n",
       "      <td>[[[101, 102, 95], [103, 104, 97], [104, 104, 9...</td>\n",
       "      <td>[[0, 0, 0, 0, 0, 0, 0, 0, 0, 0, 0, 0, 0, 0, 0,...</td>\n",
       "    </tr>\n",
       "  </tbody>\n",
       "</table>\n",
       "</div>"
      ],
      "text/plain": [
       "  idx                                              image  \\\n",
       "0   0  [[[85, 77, 69], [81, 75, 67], [78, 72, 64], [8...   \n",
       "1   1  [[[48, 64, 38], [46, 63, 38], [47, 66, 39], [4...   \n",
       "2   2  [[[117, 110, 102], [113, 106, 98], [116, 109, ...   \n",
       "3   3  [[[54, 53, 47], [27, 27, 22], [54, 51, 46], [5...   \n",
       "4   4  [[[143, 144, 144], [144, 145, 145], [146, 146,...   \n",
       "\n",
       "                                         groundtruth        image_name  \\\n",
       "0  [[0, 0, 0, 0, 0, 0, 0, 0, 0, 0, 0, 0, 0, 0, 0,...  satImage_001.png   \n",
       "1  [[0, 0, 0, 0, 0, 0, 0, 0, 0, 0, 0, 0, 0, 0, 0,...  satImage_002.png   \n",
       "2  [[237, 237, 237, 237, 237, 237, 237, 237, 237,...  satImage_003.png   \n",
       "3  [[0, 0, 0, 0, 0, 0, 0, 0, 0, 0, 0, 0, 0, 0, 0,...  satImage_004.png   \n",
       "4  [[0, 0, 0, 0, 0, 0, 0, 0, 0, 0, 0, 0, 0, 0, 0,...  satImage_005.png   \n",
       "\n",
       "                                          padded_img  \\\n",
       "0  [[[22, 21, 19], [16, 18, 15], [14, 16, 14], [1...   \n",
       "1  [[[89, 71, 64], [89, 70, 63], [88, 69, 62], [9...   \n",
       "2  [[[162, 157, 143], [160, 154, 142], [160, 155,...   \n",
       "3  [[[78, 75, 70], [76, 73, 69], [76, 73, 69], [7...   \n",
       "4  [[[101, 102, 95], [103, 104, 97], [104, 104, 9...   \n",
       "\n",
       "                                  padded_groundtruth  \n",
       "0  [[0, 0, 0, 0, 0, 0, 0, 0, 0, 0, 0, 0, 0, 0, 0,...  \n",
       "1  [[0, 0, 0, 0, 0, 0, 0, 0, 0, 0, 0, 0, 0, 0, 0,...  \n",
       "2  [[0, 0, 0, 0, 0, 0, 0, 0, 0, 0, 0, 0, 0, 0, 0,...  \n",
       "3  [[0, 0, 0, 0, 0, 0, 0, 0, 0, 0, 0, 0, 0, 0, 0,...  \n",
       "4  [[0, 0, 0, 0, 0, 0, 0, 0, 0, 0, 0, 0, 0, 0, 0,...  "
      ]
     },
     "execution_count": 169,
     "metadata": {},
     "output_type": "execute_result"
    }
   ],
   "source": [
    "data.head()"
   ]
  },
  {
   "cell_type": "code",
   "execution_count": 221,
   "metadata": {},
   "outputs": [],
   "source": [
    "# get groundtruth to train\n",
    "Labels = data.apply(lambda row :get_large_patches(row[\"groundtruth\"],row[\"padded_groundtruth\"],patch_size,x_dim,y_dim),axis = 1).tolist()\n",
    "Labels = np.asarray(Labels)\n",
    "Labels.shape\n",
    "Labels_torch = torch.from_numpy(Labels)\n",
    "Labels_torch = Labels_torch.reshape(62500,96,96,1)\n"
   ]
  },
  {
   "cell_type": "code",
   "execution_count": 266,
   "metadata": {},
   "outputs": [],
   "source": [
    "# get images to train\n",
    "X = data.apply(lambda row :get_large_patches(row[\"image\"],row[\"padded_img\"],patch_size,x_dim,y_dim),axis = 1).tolist()\n",
    "X = np.asarray(X)\n",
    "X = np.swapaxes(X,2,4)\n",
    "X_torch = torch.from_numpy(X)\n",
    "X_torch = X_torch.reshape(62500,3,96,96)"
   ]
  },
  {
   "cell_type": "code",
   "execution_count": 268,
   "metadata": {},
   "outputs": [
    {
     "data": {
      "image/png": "[encoded data removed]",
      "text/plain": [
       "<PIL.Image.Image image mode=RGB size=96x96 at 0x17B31B27448>"
      ]
     },
     "execution_count": 268,
     "metadata": {},
     "output_type": "execute_result"
    }
   ],
   "source": [
    "# example of how to print image\n",
    "im = transforms.ToPILImage()(X_torch[0]).convert(\"RGB\")\n",
    "im"
   ]
  }
 ],
 "metadata": {
  "kernelspec": {
   "display_name": "Python 3",
   "language": "python",
   "name": "python3"
  },
  "language_info": {
   "codemirror_mode": {
    "name": "ipython",
    "version": 3
   },
   "file_extension": ".py",
   "mimetype": "text/x-python",
   "name": "python",
   "nbconvert_exporter": "python",
   "pygments_lexer": "ipython3",
   "version": "3.7.4"
  }
 },
 "nbformat": 4,
 "nbformat_minor": 4
}
