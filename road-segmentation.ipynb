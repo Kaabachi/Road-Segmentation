{
 "cells": [
  {
   "cell_type": "code",
   "execution_count": 1,
   "metadata": {
    "scrolled": true
   },
   "outputs": [],
   "source": [
    "%matplotlib inline\n",
    "import matplotlib.image as mpimg\n",
    "import numpy as np\n",
    "import matplotlib.pyplot as plt\n",
    "import os,sys"
   ]
  },
  {
   "cell_type": "code",
   "execution_count": 2,
   "metadata": {
    "scrolled": true
   },
   "outputs": [],
   "source": [
    "import torch\n",
    "import torch.nn as nn\n",
    "import torch.utils.data as data\n",
    "from torchvision import transforms\n",
    "from PIL import Image"
   ]
  },
  {
   "cell_type": "code",
   "execution_count": 3,
   "metadata": {},
   "outputs": [],
   "source": [
    "from datasets import RoadsDatasetTrain, RoadsDatasetTest\n",
    "from model import UNet\n",
    "from train import train\n",
    "from predict import predict"
   ]
  },
  {
   "cell_type": "code",
   "execution_count": 4,
   "metadata": {
    "scrolled": true
   },
   "outputs": [],
   "source": [
    "BATCH_SIZE = 1\n",
    "EPOCHS = 1\n",
    "LEARNING_RATE = 0.0001\n",
    "\n",
    "PATCH_SIZE = 16\n",
    "LARGE_PATCH_SIZE = 96\n",
    "\n",
    "TRAIN_IMAGE_INITIAL_SIZE = 400\n",
    "NUMBER_PATCH_PER_TRAIN_IMAGE = (TRAIN_IMAGE_INITIAL_SIZE // PATCH_SIZE) * (TRAIN_IMAGE_INITIAL_SIZE // PATCH_SIZE)\n",
    "\n",
    "TEST_IMAGE_INITIAL_SIZE = 608\n",
    "NUMBER_PATCH_PER_TEST_IMAGE = (TEST_IMAGE_INITIAL_SIZE // PATCH_SIZE) * (TEST_IMAGE_INITIAL_SIZE // PATCH_SIZE)\n",
    "CRITERION = nn.BCELoss()"
   ]
  },
  {
   "cell_type": "code",
   "execution_count": 5,
   "metadata": {
    "scrolled": true
   },
   "outputs": [],
   "source": [
    "train_data_dir = \"./Datasets/training\"\n",
    "train_dataset = RoadsDatasetTrain(patch_size=PATCH_SIZE, large_patch_size=LARGE_PATCH_SIZE, number_patch_per_image=NUMBER_PATCH_PER_TRAIN_IMAGE,image_initial_size= TRAIN_IMAGE_INITIAL_SIZE, root_dir=train_data_dir)\n",
    "train_dataloader = data.DataLoader(dataset=train_dataset, batch_size=BATCH_SIZE, shuffle=True)\n",
    "\n",
    "test_data_dir = \"./Datasets/test_set_images\"\n",
    "test_dataset = RoadsDatasetTest(patch_size=PATCH_SIZE, large_patch_size=LARGE_PATCH_SIZE, number_patch_per_image=NUMBER_PATCH_PER_TEST_IMAGE,image_initial_size= TEST_IMAGE_INITIAL_SIZE,root_dir=test_data_dir)\n",
    "test_dataloader = data.DataLoader(dataset=test_dataset, batch_size=1, shuffle=False)"
   ]
  },
  {
   "cell_type": "code",
   "execution_count": 6,
   "metadata": {
    "scrolled": true
   },
   "outputs": [],
   "source": [
    "# unet = UNet()\n",
    "# train(model=unet, dataloader=train_dataloader, epochs=EPOCHS, criterion=CRITERION)"
   ]
  },
  {
   "cell_type": "code",
   "execution_count": 7,
   "metadata": {},
   "outputs": [],
   "source": [
    "unet = torch.load('./Model_2', map_location=torch.device('cpu'))"
   ]
  },
  {
   "cell_type": "code",
   "execution_count": 8,
   "metadata": {
    "scrolled": false
   },
   "outputs": [
    {
     "name": "stdout",
     "output_type": "stream",
     "text": [
      "[Patch 0/2888]\n",
      "[Patch 100/2888]\n",
      "[Patch 200/2888]\n",
      "[Patch 300/2888]\n",
      "[Patch 400/2888]\n",
      "[Patch 500/2888]\n",
      "[Patch 600/2888]\n",
      "[Patch 700/2888]\n",
      "[Patch 800/2888]\n",
      "[Patch 900/2888]\n",
      "[Patch 1000/2888]\n",
      "[Patch 1100/2888]\n",
      "[Patch 1200/2888]\n",
      "[Patch 1300/2888]\n",
      "[Patch 1400/2888]\n",
      "[Patch 1500/2888]\n",
      "[Patch 1600/2888]\n",
      "[Patch 1700/2888]\n",
      "[Patch 1800/2888]\n",
      "[Patch 1900/2888]\n",
      "[Patch 2000/2888]\n",
      "[Patch 2100/2888]\n",
      "[Patch 2200/2888]\n",
      "[Patch 2300/2888]\n",
      "[Patch 2400/2888]\n",
      "[Patch 2500/2888]\n",
      "[Patch 2600/2888]\n",
      "[Patch 2700/2888]\n",
      "[Patch 2800/2888]\n"
     ]
    }
   ],
   "source": [
    "predict(unet, test_dataloader)"
   ]
  },
  {
   "cell_type": "code",
   "execution_count": 9,
   "metadata": {
    "scrolled": false
   },
   "outputs": [],
   "source": [
    "# result = torch.zeros(len(test_dataloader),3, PATCH_SIZE,PATCH_SIZE)\n",
    "# indices = np.zeros((len(test_dataloader), 3), dtype=int)\n",
    "# PADDING = 40\n",
    "\n",
    "# def crop(image):\n",
    "#     return image[:,PADDING:PADDING+PATCH_SIZE, PADDING:PADDING+PATCH_SIZE]\n",
    "\n",
    "# l=None\n",
    "# for i, k in enumerate(test_dataloader):\n",
    "#         k['image'][0]\n",
    "#         if(i==1):\n",
    "#             l=k['image'][0]\n",
    "#         result[i] = crop(k['image'][0])\n",
    "#         indices[i] = np.array([k['id'], k['x'], k['y']])\n",
    "        \n",
    "\n",
    "# def reconstruct_images(result, indices):\n",
    "#     images = torch.zeros((indices.shape[0]//1444,3, 608, 608))\n",
    "    \n",
    "#     for i in range(indices.shape[0]):\n",
    "#         image_number = indices[i, 0]\n",
    "        \n",
    "#         start_x = indices[i, 1] * PATCH_SIZE\n",
    "#         end_x = start_x + PATCH_SIZE\n",
    "        \n",
    "#         start_y = indices[i, 2] * PATCH_SIZE\n",
    "#         end_y = start_y + PATCH_SIZE \n",
    "        \n",
    "#         images[image_number,:, start_x:end_x, start_y:end_y] = result[i]\n",
    "        \n",
    "#     return images\n",
    "\n",
    "# reconstructed = reconstruct_images(result, indices)\n",
    "# mask = reconstructed.clone().detach().type(torch.float)\n",
    "\n",
    "\n",
    "\n",
    "# # im = transforms.ToPILImage()(torch.tensor(result[0], dtype=torch.float)).convert('RGB')\n",
    "# # im\n",
    "# im = transforms.ToPILImage()(mask[1]).convert('RGB')\n",
    "# im"
   ]
  }
 ],
 "metadata": {
  "kernelspec": {
   "display_name": "Python 3",
   "language": "python",
   "name": "python3"
  },
  "language_info": {
   "codemirror_mode": {
    "name": "ipython",
    "version": 3
   },
   "file_extension": ".py",
   "mimetype": "text/x-python",
   "name": "python",
   "nbconvert_exporter": "python",
   "pygments_lexer": "ipython3",
   "version": "3.7.3"
  }
 },
 "nbformat": 4,
 "nbformat_minor": 2
}
